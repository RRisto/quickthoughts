{
 "cells": [
  {
   "cell_type": "code",
   "execution_count": 18,
   "metadata": {},
   "outputs": [],
   "source": [
    "from gensim.models import Word2Vec\n",
    "from gensim.models import KeyedVectors\n",
    "import sentencepiece as spm\n",
    "from pathlib import Path"
   ]
  },
  {
   "cell_type": "markdown",
   "metadata": {},
   "source": [
    "## Data"
   ]
  },
  {
   "cell_type": "code",
   "execution_count": 6,
   "metadata": {},
   "outputs": [
    {
     "data": {
      "text/plain": [
       "['hi my name is sanyam .',\n",
       " 'today i went to the zoo .',\n",
       " 'zoo had a dog .',\n",
       " 'zoo had a cat .',\n",
       " 'the zoo was good .']"
      ]
     },
     "execution_count": 6,
     "metadata": {},
     "output_type": "execute_result"
    }
   ],
   "source": [
    "sentences=Path('data/cleaned.txt').read_text().split('\\n')\n",
    "sentences[:5]"
   ]
  },
  {
   "cell_type": "code",
   "execution_count": 7,
   "metadata": {},
   "outputs": [],
   "source": [
    "#tokenize\n",
    "sp = spm.SentencePieceProcessor(model_file='tokenizers/models/dev.model')\n",
    "tokens=sp.encode(sentences, out_type=str)"
   ]
  },
  {
   "cell_type": "code",
   "execution_count": 9,
   "metadata": {},
   "outputs": [
    {
     "data": {
      "text/plain": [
       "['▁h',\n",
       " 'i',\n",
       " '▁',\n",
       " 'm',\n",
       " 'y',\n",
       " '▁',\n",
       " 'n',\n",
       " 'am',\n",
       " 'e',\n",
       " '▁i',\n",
       " 's',\n",
       " '▁',\n",
       " 's',\n",
       " 'a',\n",
       " 'n',\n",
       " 'y',\n",
       " 'am',\n",
       " '▁.']"
      ]
     },
     "execution_count": 9,
     "metadata": {},
     "output_type": "execute_result"
    }
   ],
   "source": [
    "tokens[0]"
   ]
  },
  {
   "cell_type": "markdown",
   "metadata": {},
   "source": [
    "## Init model"
   ]
  },
  {
   "cell_type": "code",
   "execution_count": 15,
   "metadata": {},
   "outputs": [],
   "source": [
    "w2v_model = Word2Vec(min_count=20,\n",
    "                     window=5,\n",
    "                     iter=5,\n",
    "                     size=300,\n",
    "                     sample=6e-5, \n",
    "                     alpha=0.03, \n",
    "                     min_alpha=0.0007, \n",
    "                     negative=20,\n",
    "                     workers=3)"
   ]
  },
  {
   "cell_type": "markdown",
   "metadata": {},
   "source": [
    "## Build vocab"
   ]
  },
  {
   "cell_type": "code",
   "execution_count": 16,
   "metadata": {},
   "outputs": [],
   "source": [
    "w2v_model.build_vocab(tokens, progress_per=10000)"
   ]
  },
  {
   "cell_type": "markdown",
   "metadata": {},
   "source": [
    "## Train"
   ]
  },
  {
   "cell_type": "code",
   "execution_count": 17,
   "metadata": {},
   "outputs": [
    {
     "data": {
      "text/plain": [
       "(4878, 133500)"
      ]
     },
     "execution_count": 17,
     "metadata": {},
     "output_type": "execute_result"
    }
   ],
   "source": [
    "w2v_model.train(tokens, total_examples=w2v_model.corpus_count, epochs=30, report_delay=1)"
   ]
  },
  {
   "cell_type": "code",
   "execution_count": 22,
   "metadata": {},
   "outputs": [],
   "source": [
    "w2v_model.init_sims(replace=True)"
   ]
  },
  {
   "cell_type": "code",
   "execution_count": 27,
   "metadata": {},
   "outputs": [
    {
     "data": {
      "text/plain": [
       "{'▁h': <gensim.models.keyedvectors.Vocab at 0x26840ca0248>,\n",
       " 'i': <gensim.models.keyedvectors.Vocab at 0x26840ca0808>,\n",
       " '▁': <gensim.models.keyedvectors.Vocab at 0x26840ca05c8>,\n",
       " 'm': <gensim.models.keyedvectors.Vocab at 0x26840ca0448>,\n",
       " 'y': <gensim.models.keyedvectors.Vocab at 0x26840ca0308>,\n",
       " 'n': <gensim.models.keyedvectors.Vocab at 0x26840c5e188>,\n",
       " 'am': <gensim.models.keyedvectors.Vocab at 0x26840c5e1c8>,\n",
       " 'e': <gensim.models.keyedvectors.Vocab at 0x26840c5e248>,\n",
       " '▁i': <gensim.models.keyedvectors.Vocab at 0x26840ca0b88>,\n",
       " 's': <gensim.models.keyedvectors.Vocab at 0x26840ca0148>,\n",
       " 'a': <gensim.models.keyedvectors.Vocab at 0x26840c5e3c8>,\n",
       " '▁.': <gensim.models.keyedvectors.Vocab at 0x26840c5e888>,\n",
       " '▁to': <gensim.models.keyedvectors.Vocab at 0x26840c5e688>,\n",
       " 'd': <gensim.models.keyedvectors.Vocab at 0x26840c5e588>,\n",
       " '▁w': <gensim.models.keyedvectors.Vocab at 0x26840c5e6c8>,\n",
       " 't': <gensim.models.keyedvectors.Vocab at 0x26840c5e7c8>,\n",
       " '▁t': <gensim.models.keyedvectors.Vocab at 0x26840c5e4c8>,\n",
       " 'h': <gensim.models.keyedvectors.Vocab at 0x26840c5e988>,\n",
       " 'z': <gensim.models.keyedvectors.Vocab at 0x26840c5ea48>,\n",
       " 'oo': <gensim.models.keyedvectors.Vocab at 0x26840c5eb88>,\n",
       " 'o': <gensim.models.keyedvectors.Vocab at 0x26840c5ebc8>,\n",
       " 'g': <gensim.models.keyedvectors.Vocab at 0x26840c7c348>,\n",
       " 'c': <gensim.models.keyedvectors.Vocab at 0x26840c7c648>,\n",
       " 'b': <gensim.models.keyedvectors.Vocab at 0x26840c7c0c8>}"
      ]
     },
     "execution_count": 27,
     "metadata": {},
     "output_type": "execute_result"
    }
   ],
   "source": [
    "w2v_model.wv.vocab"
   ]
  },
  {
   "cell_type": "code",
   "execution_count": 28,
   "metadata": {},
   "outputs": [
    {
     "data": {
      "text/plain": [
       "[('y', 0.9999210238456726),\n",
       " ('s', 0.9999194145202637),\n",
       " ('▁h', 0.999911367893219),\n",
       " ('d', 0.9999109506607056),\n",
       " ('n', 0.9999079704284668),\n",
       " ('▁.', 0.999904990196228),\n",
       " ('▁', 0.9999023675918579),\n",
       " ('▁i', 0.9999021291732788),\n",
       " ('▁w', 0.9998984932899475),\n",
       " ('a', 0.9998965263366699)]"
      ]
     },
     "execution_count": 28,
     "metadata": {},
     "output_type": "execute_result"
    }
   ],
   "source": [
    "w2v_model.wv.most_similar(positive=[\"am\"])"
   ]
  },
  {
   "cell_type": "markdown",
   "metadata": {},
   "source": [
    "## Save"
   ]
  },
  {
   "cell_type": "code",
   "execution_count": 20,
   "metadata": {},
   "outputs": [],
   "source": [
    "word_vectors = w2v_model.wv"
   ]
  },
  {
   "cell_type": "code",
   "execution_count": 21,
   "metadata": {},
   "outputs": [],
   "source": [
    "word_vectors.save('embedding_models\\dev_vectors.kv')"
   ]
  },
  {
   "cell_type": "code",
   "execution_count": null,
   "metadata": {},
   "outputs": [],
   "source": []
  }
 ],
 "metadata": {
  "kernelspec": {
   "display_name": "Python 3",
   "language": "python",
   "name": "python3"
  },
  "language_info": {
   "codemirror_mode": {
    "name": "ipython",
    "version": 3
   },
   "file_extension": ".py",
   "mimetype": "text/x-python",
   "name": "python",
   "nbconvert_exporter": "python",
   "pygments_lexer": "ipython3",
   "version": "3.7.4"
  }
 },
 "nbformat": 4,
 "nbformat_minor": 2
}
